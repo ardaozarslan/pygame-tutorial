{
  "nbformat": 4,
  "nbformat_minor": 0,
  "metadata": {
    "colab": {
      "name": "Python Tutorial.ipynb",
      "provenance": [],
      "collapsed_sections": [],
      "toc_visible": true,
      "authorship_tag": "ABX9TyNL7DE7YqAXslC36GBfFlST",
      "include_colab_link": true
    },
    "kernelspec": {
      "name": "python3",
      "display_name": "Python 3"
    }
  },
  "cells": [
    {
      "cell_type": "markdown",
      "metadata": {
        "id": "view-in-github",
        "colab_type": "text"
      },
      "source": [
        "<a href=\"https://colab.research.google.com/github/ardaozarslan/pygame-tutorial/blob/main/Python_Tutorial.ipynb\" target=\"_parent\"><img src=\"https://colab.research.google.com/assets/colab-badge.svg\" alt=\"Open In Colab\"/></a>"
      ]
    },
    {
      "cell_type": "markdown",
      "metadata": {
        "id": "pBoD9B2qDjYI"
      },
      "source": [
        "# Merhaba\n",
        "\n",
        "&nbsp;&nbsp;&nbsp;Merhaba arkadaşlar. Ben Arda Özarslan, METU ROVER projesinin takım lideriyim. Bu dönem Kodlama (I) eğitimini ben veriyor olacağım. Eğitimde ise beraber Python ile bir oyun kodlayacağız. Ancak süremiz kısıtlı olacağı için öncesinde temel Python bilgisi oluşturmak amacıyla bu Colab defterini hazırladım.\n",
        "\n",
        "&nbsp;&nbsp;&nbsp;Sayfada ilerledikçe bu görseldeki gibi <img src=\"https://raw.githubusercontent.com/ardaozarslan/pygame-tutorial/main/GIF's/Colab%20Explanation.gif\"></img> görünen kod bloklarını sol taraflarında bulunan oynatma tuşuyla çalıştırabilirsiniz. Bu defterin doğru bir şekilde çalıştığından emin olmak için hiçbir kod bloğunu atlamadan çalıştırın. \n",
        "\n",
        "&nbsp;&nbsp;&nbsp;Bazı kod bloklarında içinde yazan kodları değiştirip neler yapabildiğinizi görmenizi isteyeceğim. Bunun dışında tabi ki istediğiniz gibi değiştirip farklı şeyler de deneyebilirsiniz. Ancak eğitimde yapacaklarımızı takip edebilmeniz için benim bu defterde önerdiklerimi takip etmeniz yeterli olacaktır.\n",
        "\n",
        "&nbsp;&nbsp;&nbsp;Bu görselde gösterdiğim şekilde defterin \"İçindekiler\" kısmına erişebilirsiniz.\n",
        "\n",
        "<center><img width = 600 src=\"https://raw.githubusercontent.com/ardaozarslan/pygame-tutorial/main/GIF's/Colab%20Table%20of%20Contents.gif\"></img></center>"
      ]
    },
    {
      "cell_type": "markdown",
      "metadata": {
        "id": "Vc9UqCBzaO3c"
      },
      "source": [
        "# Kodlayarak neler yapabilirim?\n",
        "\n",
        "&nbsp;&nbsp;&nbsp;Öncelikle bundan bahsedelim biraz. Birkaç örnek vermek gerekirse; sıkça tekrarladığınız işlemleri hızlıca gerçekleştirmek, bir araca çizgiyi takip etmesini sağlamak, oyun yapmak, bir görseldeki spesifik objeleri tespit etmek diyebiliriz."
      ]
    },
    {
      "cell_type": "markdown",
      "metadata": {
        "id": "GGtT_bXlcgEw"
      },
      "source": [
        "# Ben kodlayabilir miyim?\n",
        "\n",
        "&nbsp;&nbsp;&nbsp;Peki yukarıda saydığım örnekleri uygulamak çok zor mu? Saydığım örneklerden kimisi kolaylıkla öğrenip uygulanabilecek pratikler olsa da kimisi ise biraz daha deneyim isteyebiliyor. Ama bir yerden başlamak lazım değil mi? Burada size göstereceğim temel Python bilgileri ile kodlama serüveninize ilk adımlarınızı atmış olacaksınız. Belki de aranızda bunları zaten bilenler olabilir, ama tekrar etmekten de bir zarar gelmez. :)"
      ]
    },
    {
      "cell_type": "markdown",
      "metadata": {
        "id": "_2OAgV10dKga"
      },
      "source": [
        "# Hazırsanız başlayalım!\n",
        "\n",
        "&nbsp;&nbsp;&nbsp;Öncelikle ufak bir bilgilendirme yapmak istiyorum. Bu defterde ve verecek olduğum Kodlama (I) eğitiminde birçok terimi İngilizce kullanacağım. Burada kullanacağım bu tür kelimeleri ise ***kalın ve italik*** harflerle yazacağım. Bunun sebebi ise İnternet üzerinde kaynak araştırması yapacağınız zaman Türkçe 1 kaynak bulabiliyorsanız İngilizce 30 kaynak bulabilirsiniz. Size tavsiyem; eğer ki araştırmalarınızı İngilizce yapmaya henüz başlamadıysanız artık başlamanız. Çünkü üniversite hayatınız boyunca çokça lazım olacak ve bu alışkanlığı bir an önce kazanmanız sizin yararınıza olacaktır.\n",
        "\n",
        "</br>&nbsp;&nbsp;&nbsp;Her kodlama dilinde olduğu gibi yazacağımız/yazdığımız programların bilgileri bir şekilde hafızada tutmaları gerekir. Bu bilgileri hafızada tutmaları için de birçok çeşit ***data type*** bulunur. Python'un güzelliği ise bizim nerede hangi ***data type***'ı kullanacağımızı ona söylememize gerek kalmadan kendisinin bu durumu halletmesi."
      ]
    },
    {
      "cell_type": "markdown",
      "metadata": {
        "id": "ufnA01scl4HT"
      },
      "source": [
        "## Data Types"
      ]
    },
    {
      "cell_type": "markdown",
      "metadata": {
        "id": "46mh2ucrmFcE"
      },
      "source": [
        "### Integer\n",
        "\n",
        "&nbsp;&nbsp;&nbsp;Integer'ın Türkçe karşılığı tam sayı. Python'da ***integer***'ın kısaltması, yani ***int*** kullanılır. Programımızın bir ***integer*** bilgisini hafızasından tutmasını istersek eğer bu bilgiyi ***variable***'larda tutmamız gerekir. Peki bir ***variable***'a bu bilgiyi nasıl aktarabilir? Örnek olması amacıyla adını \"*laptop*\" koyduğum bir ***variable***'ım olsun ve ben bu ***variable***'dan \"*12*\" sayısını içerisinde tutmasını isteyeyim. Bu durumda yapmam gereken şey şu şekilde olur:"
      ]
    },
    {
      "cell_type": "code",
      "metadata": {
        "id": "MQ0EiepPDXVB"
      },
      "source": [
        "laptop = 12"
      ],
      "execution_count": null,
      "outputs": []
    },
    {
      "cell_type": "markdown",
      "metadata": {
        "id": "EpynXzT4nLYr"
      },
      "source": [
        "&nbsp;&nbsp;&nbsp;Yukarıdaki kod bloğunu çalıştırdığınızda hiçbir şey olmadığını göreceksiniz. Çünkü henüz bu programın bize bir ***output*** vermesini istemedik. Eğer ki programımızın ekranımıza bu ***variable***'ın değerini ***print***'lemesini istersek de şu kodu çalıştırmamız gerekir:"
      ]
    },
    {
      "cell_type": "code",
      "metadata": {
        "id": "03mkHckfniBD"
      },
      "source": [
        "print(laptop)"
      ],
      "execution_count": null,
      "outputs": []
    },
    {
      "cell_type": "markdown",
      "metadata": {
        "id": "74T1xKmLnmLE"
      },
      "source": [
        "&nbsp;&nbsp;&nbsp;Gördüğünüz gibi artık programımız \"*laptop*\" ***variable***'ının içerisinde \"*12*\" ***integer***'ını saklıyor ve biz istediğimiz zaman bunu bize gösterebiliyor. "
      ]
    },
    {
      "cell_type": "markdown",
      "metadata": {
        "id": "t09qI5x7n43k"
      },
      "source": [
        "### Float\n",
        "\n",
        "&nbsp;&nbsp;&nbsp;Float ise \"Floating point number\" yani *gerçel sayı*nın karşılığı. Python'da ***float*** olarak kullanılır. ***Integer***'da yaptığım gibi aynı şekilde bir ***variable***'a içinde bir ***float*** değeri tutmasını isteyebiliriz. Bu seferki ***variable***'ımın adını ise \"*mouse*\" koydum:"
      ]
    },
    {
      "cell_type": "code",
      "metadata": {
        "id": "7OLUnTotodfK"
      },
      "source": [
        "mouse = 23.45\n",
        "print(mouse)"
      ],
      "execution_count": null,
      "outputs": []
    },
    {
      "cell_type": "markdown",
      "metadata": {
        "id": "7mWsqtn0ohlT"
      },
      "source": [
        "&nbsp;&nbsp;&nbsp;Bu sefer tek çalıştırmayla \"*mouse*\" ***variable***'ımıza \"*23.45*\" değerini atayıp bu ***variable***'ın sakladığı değeri bize göstermesini sağladık."
      ]
    },
    {
      "cell_type": "markdown",
      "metadata": {
        "id": "p1_Wa2afo9wQ"
      },
      "source": [
        "&nbsp;&nbsp;&nbsp;Bu oluşturduğumuz ***variable***'ları kendi aralarında matematiksel işlemlere sokup istediğimiz sonuçların çıktısını da alabiliriz:"
      ]
    },
    {
      "cell_type": "code",
      "metadata": {
        "id": "PxT0JPWwpMvi"
      },
      "source": [
        "print(laptop + mouse)\n",
        "print(laptop * mouse)\n",
        "print(mouse % laptop) # % operatörü bir sayının diğerine bölümünden kalanı verir"
      ],
      "execution_count": null,
      "outputs": []
    },
    {
      "cell_type": "markdown",
      "metadata": {
        "id": "9-DQeBJSpxRv"
      },
      "source": [
        "### Boolean\n",
        "\n",
        "&nbsp;&nbsp;&nbsp;***Boolean*** karşılığı \"*mantıksal*\" olarak çevrilebilir. *1* ve *0*'dır. *True* ve *False*'tur. Python'da kısaltması, yani ***bool*** kullanılır.\n",
        "</br></br>&nbsp;&nbsp;&nbsp;Örnek verecek olursak bir matematiksel işlemin doğruluğunu kontrol etmek istediğimizi varsayalım. *laptop* + *mouse* işleminin sonucunun 35'e eşit olup olmadığını kontrol etmek istersek şu şekilde bir kod yazabiliriz:"
      ]
    },
    {
      "cell_type": "code",
      "metadata": {
        "id": "rNAv3mgHrFQQ"
      },
      "source": [
        "print(laptop + mouse == 35)"
      ],
      "execution_count": null,
      "outputs": []
    },
    {
      "cell_type": "markdown",
      "metadata": {
        "id": "ybksumoOrKeo"
      },
      "source": [
        "&nbsp;&nbsp;&nbsp;Gördüğünüz gibi sonucumuz *False* çıktı. Dikkat etmenizi istediğim bir diğer konu ise işlemin arasında kullandığımız \"*==*\" operatörü. Bir ***variable***'a değer atadığımızda \"*=*\" operatörünü kullanırken; bu \"*==*\" operatörü bir işlemin veya bir durumun doğru olup olmadığını kontrol etmemize yarar.\n",
        "\n",
        "&nbsp;&nbsp;&nbsp;Bir işlemin yanlış olup olmadığını kontrol etmek istersek de \"*!=*\" operatörünü kullanabiliriz. Bir yukarıdaki kod bloğundaki \"*==*\" operatörü yerine bunu yazarak deneyebilirsiniz.\n",
        "\n",
        "&nbsp;&nbsp;&nbsp;Ayrıca istersek yine herhangi bir doğrulamanın sonucunu bir ***variable***'da saklayabiliriz:"
      ]
    },
    {
      "cell_type": "code",
      "metadata": {
        "id": "CyXLa7QmsSXS"
      },
      "source": [
        "areTheseEqual = (25 == 56)\n",
        "print(areTheseEqual)"
      ],
      "execution_count": null,
      "outputs": []
    },
    {
      "cell_type": "markdown",
      "metadata": {
        "id": "tlQDYwNaxpWF"
      },
      "source": [
        "&nbsp;&nbsp;&nbsp;\"*==*\" ve \"*!=*\" operatörleri gibi \"*\\<*\", \"*\\>*\", \"*\\<=*\" ve \"*\\>=*\" operatörlerini de test edebilirsiniz."
      ]
    },
    {
      "cell_type": "markdown",
      "metadata": {
        "id": "5mmNb50KskTl"
      },
      "source": [
        "### String\n",
        "\n",
        "&nbsp;&nbsp;&nbsp;***String***'in Türkçe karşılığı dizidir. Bunun sebebi ise karakterlerin peşpeşe *dizi*lip metinleri oluşturmasıdır. Python'da kısaltması, yani ***str*** olarak kullanılır. **' '** veya **\" \"** şeklindeki tırnak işaretlerinin arasına koyulan karakterleri bir ***string*** haline getirebiliriz:"
      ]
    },
    {
      "cell_type": "code",
      "metadata": {
        "id": "czS5LNpWtPVG"
      },
      "source": [
        "text1 = \"Merhaba \"\n",
        "text2 = \"herkese!\"\n",
        "print(text1)\n",
        "print(text2)\n",
        "print(text1 + text2)"
      ],
      "execution_count": null,
      "outputs": []
    },
    {
      "cell_type": "markdown",
      "metadata": {
        "id": "97pN4izWtmZK"
      },
      "source": [
        "&nbsp;&nbsp;&nbsp;***String***'leri kendi aralarında \"*+*\" operatörü ile birleştirebiliriz. Hatta bir ***integer*** ile \"*\\**\" operatörü yardımıyla istediğimiz bir ***string***'i çokça defa tekrarlatabiliriz:"
      ]
    },
    {
      "cell_type": "code",
      "metadata": {
        "id": "IeHkZAh7t-22"
      },
      "source": [
        "print(text1 * 10)"
      ],
      "execution_count": null,
      "outputs": []
    },
    {
      "cell_type": "markdown",
      "metadata": {
        "id": "C57_YC3GuFnY"
      },
      "source": [
        "### List\n",
        "\n",
        "&nbsp;&nbsp;&nbsp;***List***'in karşılığı ise liste. ***List***'ler birçok ***variable***'ı bir arada bulundurmamıza, gerektiğinde ise bu ***variable***'lara erişebilmemizi sağlar. \"*\\[ \\]*\" arasına virgüllerle ayırdığımız ***variable***'ları yazarak ilk ***list***'imizi oluşturalım:"
      ]
    },
    {
      "cell_type": "code",
      "metadata": {
        "id": "0t7P_kseuqEn"
      },
      "source": [
        "myList = [12, 34.78, True, \"METU MECH\"]\n",
        "print(myList)"
      ],
      "execution_count": null,
      "outputs": []
    },
    {
      "cell_type": "markdown",
      "metadata": {
        "id": "VROqPeSKu7zi"
      },
      "source": [
        "&nbsp;&nbsp;&nbsp;***List***'lerin elemanlarına ise ***index***'leri yardımıyla erişebiliriz. Birçok bilgisayar dilinde ilk elemanın ***index***'i \"*0*\" olarak kabul edilir ve buna Python da dahildir. Yani eğer ki biz \"*myList*\"teki \"*True*\" elemanına erişmek istersek bu listenin \"*2*\" ***index***'li elemanını istememiz gerekir:"
      ]
    },
    {
      "cell_type": "code",
      "metadata": {
        "id": "LtTzhHZ_wq7-"
      },
      "source": [
        "print(myList[2])"
      ],
      "execution_count": null,
      "outputs": []
    },
    {
      "cell_type": "markdown",
      "metadata": {
        "id": "rQl_bq5lwvjg"
      },
      "source": [
        "&nbsp;&nbsp;&nbsp;Gördüğünüz gibi, \"*listeAdı\\[index\\]*\" şeklinde bir ***output*** istediğimizde programımız \"*myList*\" listesinin 2 nolu ***index***'ine sahip elemanını bize gösterdi.\n",
        "\n",
        "</br>&nbsp;&nbsp;&nbsp;Listenin bir elemanını değiştirmek istersek şu şekilde yapabiliriz. Örneğin 3 ***index***'li elemanı \"*\\!METU MECH\\!*\" olarak değiştirelim:"
      ]
    },
    {
      "cell_type": "code",
      "metadata": {
        "id": "T2GaGie_0MM-"
      },
      "source": [
        "myList[3] = \"!METU MECH!\"\n",
        "print(myList)"
      ],
      "execution_count": null,
      "outputs": []
    },
    {
      "cell_type": "markdown",
      "metadata": {
        "id": "iuqF-3jbz40E"
      },
      "source": [
        "&nbsp;&nbsp;&nbsp;Listenin sonuna bir eleman eklemek istersek eğer \"*append()*\" ***method***'unu (method: bir çeşit fonksiyon olarak düşünebilirsiniz. Fonksiyonları daha ileride açıklayacağım) kullanabiliriz:"
      ]
    },
    {
      "cell_type": "code",
      "metadata": {
        "id": "0i0sKVViyzEK"
      },
      "source": [
        "myList.append(False)\n",
        "print(myList)"
      ],
      "execution_count": null,
      "outputs": []
    },
    {
      "cell_type": "markdown",
      "metadata": {
        "id": "_IObdJh3zIO-"
      },
      "source": [
        "&nbsp;&nbsp;&nbsp;Listenin belli bir ***index***'indeki elemanı silmek istersek de \"*pop()*\" ***method***'unu kullanabiliriz:"
      ]
    },
    {
      "cell_type": "code",
      "metadata": {
        "id": "fi6wKrf1zSuG"
      },
      "source": [
        "myList.pop(1)\n",
        "print(myList)"
      ],
      "execution_count": null,
      "outputs": []
    },
    {
      "cell_type": "markdown",
      "metadata": {
        "id": "W0feWvKczp1p"
      },
      "source": [
        "### Tuple\n",
        "\n",
        "&nbsp;&nbsp;&nbsp;Türkçe karşılığı değişkenler grubudur. ***List***'e çok benzer yanları vardır. \"*\\( \\)*\" arasına yazılan ***variable***'lar ile ***tuple**** oluşturulur:"
      ]
    },
    {
      "cell_type": "code",
      "metadata": {
        "id": "wlKaBKdE0mB1"
      },
      "source": [
        "myTuple = (\"METU\", 1956, \"METU MECH\", 2009)\n",
        "print(myTuple)"
      ],
      "execution_count": null,
      "outputs": []
    },
    {
      "cell_type": "markdown",
      "metadata": {
        "id": "HBP4zH370q48"
      },
      "source": [
        " &nbsp;&nbsp;&nbsp;***Tuple***'ı ***list***'ten ayıran en büyük özelliği elemanlarının değerini değiştiremememizdir:"
      ]
    },
    {
      "cell_type": "code",
      "metadata": {
        "id": "npYtZeba1IeX"
      },
      "source": [
        "myTuple[1] = 1000\n",
        "print(myTuple)"
      ],
      "execution_count": null,
      "outputs": []
    },
    {
      "cell_type": "markdown",
      "metadata": {
        "id": "tBiCfLOK1SF3"
      },
      "source": [
        "&nbsp;&nbsp;&nbsp;Gördüğünüz gibi kodumuz \"***TypeError: 'tuple' object does not support item assignment***\" diyerek hata verdi. Ancak aynı isimde bir ***tuple*** oluşturup istediğimiz elemanı farklı şekilde atayabiliriz:"
      ]
    },
    {
      "cell_type": "code",
      "metadata": {
        "id": "6rPFPc6X1pdQ"
      },
      "source": [
        "myTuple = (\"METU\", 1000, \"METU MECH\", 2009)\n",
        "print(myTuple)"
      ],
      "execution_count": null,
      "outputs": []
    },
    {
      "cell_type": "markdown",
      "metadata": {
        "id": "dSwm8h5_329X"
      },
      "source": [
        "## Type Checking\n",
        "\n",
        "&nbsp;&nbsp;&nbsp;Elimizde bulunan ***variable***'ların ***data type***'ını merak ettiğimiz durumlar olabilir. Mesela bir ***string*** ile ***int*** arasında \"*+*\" operatörünü kullanamayız ve ***variable***'larımızı kontrol etmemiz gerekebilir. Bu durumda ise yukarıda tanımlamış olduğumuz ***variable***'ları kullanarak bunu nasıl yapabileceğimizi görelim:"
      ]
    },
    {
      "cell_type": "code",
      "metadata": {
        "id": "nr8NE8AB4al2"
      },
      "source": [
        "print(type(laptop))\n",
        "print(type(mouse))\n",
        "print(type(areTheseEqual))\n",
        "print(type(text1))\n",
        "print(type(myList))\n",
        "print(type(myTuple))"
      ],
      "execution_count": null,
      "outputs": []
    },
    {
      "cell_type": "markdown",
      "metadata": {
        "id": "MdP_O6Gu2wCk"
      },
      "source": [
        "## Condition Checking (if, elif, else)\n",
        "\n",
        "&nbsp;&nbsp;&nbsp;Programımızı yönetecek olan kısımlara gelmiş bulunmaktayız. Bir şeyleri otomatikleştirme veya farklı durumlarda farklı yollar izlemek istediğimizde kullanmamız gereken ***keyword***'lere örnek vermek istersek: \"*if*\", \"*elif*\" ve \"*else*\" diyebiliriz. Hemen örnek kod üzerinde deneyelim:"
      ]
    },
    {
      "cell_type": "code",
      "metadata": {
        "id": "JrMwBsiU3k7T"
      },
      "source": [
        "monke = 200\n",
        "doge = 33\n",
        "if doge > monke:\n",
        "  print(\"doge is greater than monke\")\n",
        "elif monke == doge:\n",
        "  print(\"monke and doge are equal\")\n",
        "else:\n",
        "  print(\"monke is greater than doge\")"
      ],
      "execution_count": null,
      "outputs": []
    },
    {
      "cell_type": "markdown",
      "metadata": {
        "id": "ITD287nb_t0O"
      },
      "source": [
        "<a name=\"indentation\"></a>\n",
        "\n",
        "\n",
        "---\n",
        "\n",
        "\n",
        "\n",
        "&nbsp;&nbsp;&nbsp;***ÖNEMLİ BİLGİ***: *if*, *elif* ve *else*'in altında yazılmış olan *print*'lerin klavyenizdeki \"TAB\" tuşuna basarak bir blok sağda olması gerekiyor. Python'ın bu sayede bir blok içeriye aldığınız satırın, yukarısındaki *if*, *elif* veya *else* ***statement***'ı içerisinde olduğunu anlamasını sağlıyoruz. Yani eğer ki kodu:\n",
        "\n",
        "</br>monke = 200\n",
        "</br>doge = 33\n",
        "</br>if doge > monke:\n",
        "</br>&nbsp;&nbsp;&nbsp;print(\"doge is greater than monke\")\n",
        "</br>elif monke == doge:\n",
        "</br>&nbsp;&nbsp;&nbsp;print(\"monke and doge are equal\")\n",
        "</br>else:\n",
        "</br>&nbsp;&nbsp;&nbsp;print(\"monke is greater than doge\")\n",
        "\n",
        "</br>&nbsp;&nbsp;&nbsp;yerine\n",
        "\n",
        "</br>monke = 200\n",
        "</br>doge = 33\n",
        "</br>if doge > monke:\n",
        "</br>print(\"doge is greater than monke\")\n",
        "</br>elif monke == doge:\n",
        "</br>print(\"monke and doge are equal\")\n",
        "</br>else:\n",
        "</br>print(\"monke is greater than doge\")\n",
        "\n",
        "</br>&nbsp;&nbsp;&nbsp;şeklinde yazarsanız kod hata verecektir.\n",
        "\n",
        "\n",
        "\n",
        "---\n",
        "\n"
      ]
    },
    {
      "cell_type": "markdown",
      "metadata": {
        "id": "mxBXlGOE45P7"
      },
      "source": [
        "&nbsp;&nbsp;&nbsp;Kod bloğumuz öncelikle \"*eğer*\" anlamına gelen \"*if*\" ***keyword***'ünün yanındaki ***statement***'ı kontrol ettiğinde *doge*'nin *monke*'den büyük olup olmadığına baktı. Bu ifadenin doğru olmadığını fark ettiğinde ise \"*yok eğer*\" anlamına gelen \"*elif*\" ***keyword***'ünün yanındaki ***statement***'ı kontrol etti. Bu iki ***variable*** birbirine eşit olmadığı için yine devam etti. Sonunda ise \"*hiçbiri değilse*\" anlamına gelen \"*else*\" ***keyword***'üne gelince aşağısında ne varsa oradaki ifadeleri gerçekleştirdi.\n",
        "\n",
        "</br>&nbsp;&nbsp;&nbsp;Bu kod bloğunda *monke* ve *doge* ***variable***'larına farklı değerler vererek bu ***keyword***'lerin nasıl çalıştığını daha iyi anlayabilirsiniz."
      ]
    },
    {
      "cell_type": "markdown",
      "metadata": {
        "id": "bacyoMY-7uX_"
      },
      "source": [
        "## Loops\n",
        "\n",
        "&nbsp;&nbsp;&nbsp;Kodlarımızda aynı yerin birçok kez tekrar etmesini isteyeceğimiz durumlar olma ihtimali çok yüksek. Çünkü neden? Üşengeciz. Kodlama da bu yüzden var!\n",
        "\n",
        "</br>&nbsp;&nbsp;&nbsp;Şaka bir yana, kodlamada bizi çok büyük yüklerden kurtaran şeyler bu ***loop*** dediğimiz şeyler. Türkçe karşılığı \"*döngü*\". Sürekli, bizim istediğimiz kadar veya belli bir ***condition*** gerçekleşene kadar aynı işlemleri tekrarlayan kodlar bütününe ***loop*** deniyor. En bilindik örnekleri ise ***while*** ve ***for*** döngüleri."
      ]
    },
    {
      "cell_type": "markdown",
      "metadata": {
        "id": "AyGdQ07284Cm"
      },
      "source": [
        "### While Loop\n",
        "\n",
        "&nbsp;&nbsp;&nbsp;***While loop*** bir kodun sürekli veya belli bir ***condition*** gerçekleşene kadar çalışmasını sağlar. Belli bir sayıda çalışmasını da bununla sağlayabiliriz ancak bu iş için ***for loop*** daha uygun. Yukarılarda kullanmış olduğumuz listemizi yeniden tanımlayıp bir uygulama yapalım:"
      ]
    },
    {
      "cell_type": "markdown",
      "metadata": {
        "id": "O1k0p3dDBcCd"
      },
      "source": [
        "&nbsp;&nbsp;&nbsp;***HATIRLATMA***: [Önemli Bilgi](#indentation) olarak yukarıda belirttiğim durum ***while loop***'ta da geçerli, aklınızda olsun :)"
      ]
    },
    {
      "cell_type": "code",
      "metadata": {
        "id": "3s-lPt9H-aPB"
      },
      "source": [
        "myList = [12, 34.78, True, \"METU MECH\"]\n",
        "while True:                                     # Burada while loop'un kontrol ettiği şey her zaman True döndüğü için her zaman içeriye girip koda devam etmesini sağlıyor.\n",
        "  if len(myList) > 0:                           # myList'in eleman sayısının 0'dan büyük olduğu durumlarda\n",
        "    print(myList.pop(0))                        # myList'in 0 index'li elemanını listeden silip print'letiyoruz.\n",
        "  else:                                         # Eğer ki myList'in eleman sayısı 0'dan büyük değilse\n",
        "    break                                       # break komutu sayesinde while loop'tan çıkıyoruz.\n",
        "print(\"The loop has ended!\")                    # En sonunda koddan çıktığımızda ise bunu kullanıcıya bildirmek amacıyla bir string print'letiyoruz."
      ],
      "execution_count": null,
      "outputs": []
    },
    {
      "cell_type": "markdown",
      "metadata": {
        "id": "vlFNSPc6Bw6Z"
      },
      "source": [
        "&nbsp;&nbsp;&nbsp;Bu sefer kod ile alakalı açıklamayı kodun yanında yaptım. Siz de # karakterini kullanarak kendi kodlarınızda bunu kullanabilirsiniz. O satırda o karakterden sonra yazdıklarınız Python tarafından işleme alınmaz, bu sayede kullanıcılarınıza kodunuzu nasıl kullanacaklarını aktarabilirsiniz."
      ]
    },
    {
      "cell_type": "markdown",
      "metadata": {
        "id": "NDxP2BpoCIBq"
      },
      "source": [
        "### For Loop\n",
        "\n",
        "&nbsp;&nbsp;&nbsp;Yukarıda bahsettiğim gibi ***for loop*** daha çok bizim belirlediğimiz sayıda döngüleri gerçekleştirmemize yarar. Bir listenin her elemanında dolaşıp onu print'letebiliriz veya bir işlem tamamlandığında kodumuzun 10'a kadar saymasını isteyebiliriz. Öncelikle ikinci verdiğim örneği deneyelim isterseniz:"
      ]
    },
    {
      "cell_type": "code",
      "metadata": {
        "id": "TqELpD5sDGr9"
      },
      "source": [
        "for i in range(1,11):\n",
        "  print(i)\n",
        "print(\"The loop has ended!\")"
      ],
      "execution_count": null,
      "outputs": []
    },
    {
      "cell_type": "markdown",
      "metadata": {
        "id": "xDzgBeKVDP1h"
      },
      "source": [
        "&nbsp;&nbsp;&nbsp;Burada kullanmış olduğumuz \"*range()*\" fonksiyonu belli bir \"*aralık*\" belirlememizi sağlıyor. Bizim yapmış olduğumuz örnek üzerinden gidecek olursak 1'den (dahil) 11'e kadar (hariç) tam sayıları barındıran bir liste benzeri bir yapı oluşturuyor. (\\[1, 2, 3, 4, 5, 6, 7, 8, 9, 10\\] gibi)\n",
        "\n",
        "</br>&nbsp;&nbsp;&nbsp;Yazmış olduğumuz kodda ***for loop*** her seferinde *range()*'in oluşturmuş olduğu sayıları *i* isimli ***variable***'ımıza atayıp ***loop***'un içerisine giriyor. İlk seferde *1* değerini alıp *i*'ye atayıp print'letiyor. Ardından sıradaki *2* değerini alıp *i*'ye atayıp print'letiyor. Bu şekilde en son *i*'ye 10 değerini atayıp print'lettikten sonra ise ***loop***'un bittiğini kullanıcıya haber veriyor."
      ]
    },
    {
      "cell_type": "markdown",
      "metadata": {
        "id": "n7fshAYlEpeI"
      },
      "source": [
        "## Functions\n",
        "\n",
        "&nbsp;&nbsp;&nbsp;***Function*** yukarıda ***method***'un ne olduğunu anlatmaya çalışırken adından bahsettiğim *fonksiyon*lar aslında. Fonksiyonlar, farklı ***input***'lara göre farklı ***output***'lar vermeye yarayan, kodumuzda sıkça tekrar eden yerler için kodumuzu daha düzenli göstermemize yarayan kodlar bütünü. Bir fonksiyon tanımlamak için \"*def*\" ***keyword***'ü kullanılır ve peşinden fonksiyona vermek istediğimiz isim, onun da ardından ***function***'ımızın ***argument***'ları gelir. Örnek bir fonksiyon tanımlaması şu şekilde yapılabilir:"
      ]
    },
    {
      "cell_type": "code",
      "metadata": {
        "id": "tHS8a8gIGFN6"
      },
      "source": [
        "def MyFunction(arg1, arg2):\n",
        "  print(\"Hello\")"
      ],
      "execution_count": null,
      "outputs": []
    },
    {
      "cell_type": "markdown",
      "metadata": {
        "id": "lE5W6zZsGQAP"
      },
      "source": [
        "&nbsp;&nbsp;&nbsp;Bu ***function*** hangi ***argument***'larla kullanılırsa kullanılsın sadece \"Hello\" print'leyecek aslında. Yani çok da bir numarası yok :D. Haydi bu ***function***'ı çağırmayı deneyelim:"
      ]
    },
    {
      "cell_type": "code",
      "metadata": {
        "id": "WSrjfYPDGjUA"
      },
      "source": [
        "MyFunction(1, \"jhdsf\")"
      ],
      "execution_count": null,
      "outputs": []
    },
    {
      "cell_type": "markdown",
      "metadata": {
        "id": "JygZzDILGwNX"
      },
      "source": [
        "&nbsp;&nbsp;&nbsp;Şimdi ise birçok argümanın işe yaradığı birkaç örneğe bakalım:"
      ]
    },
    {
      "cell_type": "code",
      "metadata": {
        "id": "o1ErkvUOG1G3"
      },
      "source": [
        "def SumOfAll(firstNumber, secondNumber, thirdNumber):\n",
        "  print(firstNumber + secondNumber + thirdNumber)\n",
        "\n",
        "SumOfAll(2, 5, 7)"
      ],
      "execution_count": null,
      "outputs": []
    },
    {
      "cell_type": "markdown",
      "metadata": {
        "id": "H-AFW_UEHRtm"
      },
      "source": [
        "&nbsp;&nbsp;&nbsp;4. Satırda fonksiyonu çağırdığımızda öncelikle bizim girmiş olduğumuz 2, 5 ve 7 değerleri fonksiyonun argümanlarına atandı. Yani firstNumber = 2, secondNumber = 5 ve thirdNumber = 7 işlemlerini yaptığımızı düşünün. Peşinden ise yaptığı toplama işlemini print'ledi. Bu fonksiyonumuzun sadece toplamı print'lemesindense bu toplamı aslında bizim istediğimiz bir ***variable***'a atayabiliriz de:"
      ]
    },
    {
      "cell_type": "code",
      "metadata": {
        "id": "CweSTzWJHb_W"
      },
      "source": [
        "def ReturnSumOfAll(firstNumber, secondNumber, thirdNumber):\n",
        "  return firstNumber + secondNumber + thirdNumber\n",
        "\n",
        "sumOfAllNumbers = ReturnSumOfAll(2, 5, 8)\n",
        "print(\"The total sum is:\", sumOfAllNumbers)"
      ],
      "execution_count": null,
      "outputs": []
    },
    {
      "cell_type": "markdown",
      "metadata": {
        "id": "ORY4j-nGHwOz"
      },
      "source": [
        "&nbsp;&nbsp;&nbsp;Gördüğünüz gibi 4. satırda çağırmış olduğumuz ReturnSumOfAll fonksiyonumuz içerisinde yapmış olduğu işlemin sonucunu yine 4. satırdaki sumOfAllNumbers ***variable***'ımıza atamış oldu.\n",
        "\n",
        "</br>&nbsp;&nbsp;&nbsp;5. satırda ise yeni bir şey daha denedik. ***print*** fonksiyonunun içerisine virgül ile ayırarak öncelikle bir ***string***, sonra ise bir ***int*** ***argument***'ı girmiş olduk. Bu sayede yan yana iki ayrı ***data type***'ı göstermiş olduk.\n",
        "\n",
        "</br>&nbsp;&nbsp;&nbsp;Son olarak da basitçe bir dik üçgendeki hipotenüs uzunluğunu hesaplayan bir fonksiyon yazalım:"
      ]
    },
    {
      "cell_type": "code",
      "metadata": {
        "id": "8w965MgPJEkZ"
      },
      "source": [
        "def CalculateHypotenuse(side1, side2):\n",
        "  squares = side1**2 + side2**2\n",
        "  squareRoot = squares**(0.5)\n",
        "  return squareRoot\n",
        "\n",
        "print(CalculateHypotenuse(5, 12))"
      ],
      "execution_count": null,
      "outputs": []
    },
    {
      "cell_type": "markdown",
      "metadata": {
        "id": "ap9TpyptJtfC"
      },
      "source": [
        "&nbsp;&nbsp;&nbsp;Bir sayıda üstel işlem yapmak istediğimizde \"***\" operatörünü kullanabiliriz. Yani kodda yazan side1*\\*\\*2 matematiksel olarak $side1^2$'ye denk geliyor. Adım adım açık bir şekilde anlaşılması için fonksiyonu biraz uzatarak yazdım. Eğer isterseniz bu fonksiyonu iki satırda da tanımlayabilirsiniz:"
      ]
    },
    {
      "cell_type": "code",
      "metadata": {
        "id": "Nm3YLAfhKaT5"
      },
      "source": [
        "def CalculateHypotenuseShort(side1, side2):\n",
        "  return (side1**2 + side2**2)**(0.5)\n",
        "\n",
        "print(CalculateHypotenuseShort(7, 24))"
      ],
      "execution_count": null,
      "outputs": []
    },
    {
      "cell_type": "markdown",
      "metadata": {
        "id": "Q6WBSS9lKrMo"
      },
      "source": [
        "# Finito\n",
        "\n",
        "&nbsp;&nbsp;&nbsp;22.10.2020 tarihinde vereceğim Kodlama (I) eğitimi için anlatacaklarım bu kadardı. Eğer ki çok talep gelirse bu Colab defterini eğitim sonrasında genişletmeyi düşünebilirim. Kendinize iyi bakın, sağlıcakla kalın 👋."
      ]
    }
  ]
}